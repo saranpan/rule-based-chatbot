{
 "cells": [
  {
   "cell_type": "code",
   "execution_count": 1,
   "id": "fea09ec2-0522-4282-89af-cd51609072dc",
   "metadata": {},
   "outputs": [],
   "source": [
    "# Rule : Get the background of user first"
   ]
  },
  {
   "cell_type": "code",
   "execution_count": 2,
   "id": "3d7fcf4d-a94c-4e07-9c14-d9ec94a68048",
   "metadata": {},
   "outputs": [],
   "source": [
    "# Obtain the background of the indivudual user"
   ]
  },
  {
   "cell_type": "code",
   "execution_count": 3,
   "id": "09d7748f-afaa-4e67-9144-ca205750e617",
   "metadata": {},
   "outputs": [],
   "source": [
    "# Rule-based Chatbot\n",
    "\n",
    "# 1. [bot_entity] ชื่ออะไร -> if bot_entity in ['นาย','คุณ','เธอ'] then ผมชื่อ guruplan\n",
    "# 2. อยาก[รู้|ทราบ]รายละเอียดคอร์ส [plan_name] -> return [plan_name] มีรายละเอียดดังกล่าว info_dict[plan_name] -> current_plan \n",
    "# 3. คอร์สนี้ราคาเท่าไร -> get(user.plan) -> p = info_dict[plan_name] -> ราคา {p}"
   ]
  },
  {
   "cell_type": "code",
   "execution_count": 4,
   "id": "a9ae4d16-5a6c-401f-b4f7-0fd5a1f94fb9",
   "metadata": {},
   "outputs": [],
   "source": [
    "class UserState:\n",
    "    def __init__(self,name,age):\n",
    "        self.name = name\n",
    "        self.age = age\n",
    "        self.course_name = None\n",
    "        \n",
    "    def update_course(self,course_name):\n",
    "        self.course_name = course_name"
   ]
  },
  {
   "cell_type": "code",
   "execution_count": 8,
   "id": "a389e23e-1d84-46da-86bf-4486609f5b5c",
   "metadata": {},
   "outputs": [],
   "source": [
    "import re, json\n",
    "\n",
    "pairs = {r'.*สวัสดี.*': 'สวัสดีครับ {user_name}',\n",
    "        r'(?:คุณ|เธอ|นาย)ชื่ออะไร': 'ผมชื่อ {bot_name} งับ',\n",
    "         r'.*เข้าใจไรบ้าง.*': 'คุณสามารถถามฉันเรื่องคอร์สได้',\n",
    "         r'.*(?:ขอ|อยากรู้|อยากทราบ|อยากได้)?(?:รายละเอียด|ข้อมูล)คอร์ส(.*)': 'รายละเอียดเกี่ยวกับคอร์ส {course} มีดังนี้ครับ : {course_info}',\n",
    "         r'.*คอร์สนี้ราคาเท่าไร.*':'{price}',\n",
    "        r'.*(?:ผม|หนู|กู)อายุเท่าไร(.*)': 'คุณ {user_name} อายุ {user_age} ปี',\n",
    "        r'.*มีคอร์ส(?:อะไร|ไร).*' : 'มีคอร์สตามนี่ครับ \\n {all_course_name}'} \n",
    "\n",
    "with open('rule.json',encoding=\"utf8\") as f:\n",
    "    rule = json.load(f)\n",
    "\n",
    "user_state = UserState('Run',22)\n",
    "\n",
    "def chat(query,pairs = pairs,rule = rule,user_state = user_state):\n",
    "\n",
    "    for pattern, response in pairs.items():\n",
    "        match = re.match(pattern, query)\n",
    "        if match:\n",
    "            if '{bot_name}' in response:\n",
    "                name = 'rulebot'\n",
    "                response = re.sub(r'\\{bot_name\\}', name, response)\n",
    "                \n",
    "            if '{course}' in response:\n",
    "                course = match.group(1)\n",
    "                course = course.strip()\n",
    "                response = re.sub(r'\\{course\\}', course, response)\n",
    "            \n",
    "            if '{course_info}' in response:\n",
    "                course_info = rule['course_info'].get(course,None)\n",
    "                if course_info:\n",
    "                    response = re.sub(r'\\{course_info\\}', course_info, response)\n",
    "                    user_state.update_course(course)\n",
    "                else:\n",
    "                    response = f'ไม่มีคอร์สชื่อ \"{course}\" นะครับ 😞'\n",
    "                \n",
    "            if '{user_name}'in response:\n",
    "                response = re.sub(r'\\{user_name\\}', user_state.name  , response)\n",
    "            \n",
    "            if '{user_age}'in response:\n",
    "                response = re.sub(r'\\{user_age\\}', str(user_state.age)  , response)\n",
    "            \n",
    "            if '{price}'in response:\n",
    "                if user_state.course_name:\n",
    "                    course_info = rule['course_info'].get(user_state.course_name,None)\n",
    "                    pattern = re.compile('ราคา \\d+ บาท')\n",
    "                    price = pattern.search(course_info)\n",
    "                    response = re.sub(r'\\{price\\}', price.group(), response)\n",
    "                    \n",
    "                else:\n",
    "                    response = f'คุณ {user_state.name} หมายถึงคอร์สไหนเหรอ'\n",
    "                    \n",
    "            if '{all_course_name}'in response:\n",
    "                response = re.sub(r'\\{all_course_name\\}', ''  , response)   \n",
    "                for course_ in rule['course_info']:\n",
    "                    response += f'\\n> {course_}'\n",
    "                \n",
    "            return response\n",
    "            \n",
    "    return 'ขอโทษที ฉันไม่เข้าใจ'"
   ]
  },
  {
   "cell_type": "code",
   "execution_count": 21,
   "id": "0261c655-26f9-4239-9837-b369859adbe3",
   "metadata": {},
   "outputs": [],
   "source": [
    "def interactive_chat(pairs = pairs,rule = rule,user_state = user_state):\n",
    "    print('## หากต้องการจบการสนทนา พิมพ์ \"พอ\" หรือ \"พักก่อน\" ## \\n')\n",
    "    print(f'Rulebot 🤖 : สวัสดีคุณ {user_state.name} ผม rulebot มีอะไรให้ช่วยไหมครับเกี่ยวกับเรื่องคอร์สเรียนไหมครับ \\n')\n",
    "    while True:\n",
    "        query = input(' You 👨 : ')\n",
    "        if query in ['พอ','พักก่อน'] : \n",
    "            print(' Rulebot 🤖 : ขอบคุณมากที่ใช้บริการนะครับ แล้วเจอกันใหม่ครับ')\n",
    "            break\n",
    "        response = chat(query,pairs = pairs,rule = rule,user_state = user_state)\n",
    "        print(f' Rulebot 🤖 : {response}')"
   ]
  },
  {
   "cell_type": "code",
   "execution_count": 9,
   "id": "e393aaa7-4d37-466d-897b-81b058da6166",
   "metadata": {},
   "outputs": [
    {
     "name": "stdout",
     "output_type": "stream",
     "text": [
      "## หากต้องการจบการสนทนา พิมพ์ \"พอ\" หรือ \"พักก่อน\" ## \n",
      "\n",
      "Rulebot 🤖 : สวัสดีคุณ Run ผม rulebot มีอะไรให้ช่วยไหมครับเกี่ยวกับเรื่องคอร์สเรียนไหมครับ \n",
      "\n"
     ]
    },
    {
     "name": "stdin",
     "output_type": "stream",
     "text": [
      " You 👨 :  สวะสดีครับ\n"
     ]
    },
    {
     "name": "stdout",
     "output_type": "stream",
     "text": [
      " Rulebot 🤖 : ขอโทษที ฉันไม่เข้าใจ\n"
     ]
    },
    {
     "name": "stdin",
     "output_type": "stream",
     "text": [
      " You 👨 :  สวัสดีครับ\n"
     ]
    },
    {
     "name": "stdout",
     "output_type": "stream",
     "text": [
      " Rulebot 🤖 : สวัสดีครับ Run\n"
     ]
    },
    {
     "name": "stdin",
     "output_type": "stream",
     "text": [
      " You 👨 :  คุณชื่ออะไรอะ\n"
     ]
    },
    {
     "name": "stdout",
     "output_type": "stream",
     "text": [
      " Rulebot 🤖 : ผมชื่อ rulebot งับ\n"
     ]
    },
    {
     "name": "stdin",
     "output_type": "stream",
     "text": [
      " You 👨 :  ผมอายุเท่าไรรู้ไหม\n"
     ]
    },
    {
     "name": "stdout",
     "output_type": "stream",
     "text": [
      " Rulebot 🤖 : คุณ Run อายุ 22 ปี\n"
     ]
    },
    {
     "name": "stdin",
     "output_type": "stream",
     "text": [
      " You 👨 :  โอเค นี่มีคอร์สไรบ้าง\n"
     ]
    },
    {
     "name": "stdout",
     "output_type": "stream",
     "text": [
      " Rulebot 🤖 : มีคอร์สตามนี่ครับ \n",
      " \n",
      "> machine learning\n",
      "> python\n"
     ]
    },
    {
     "name": "stdin",
     "output_type": "stream",
     "text": [
      " You 👨 :  ว้าว อยากรู้รายละเอียดคอร์ส python\n"
     ]
    },
    {
     "name": "stdout",
     "output_type": "stream",
     "text": [
      " Rulebot 🤖 : รายละเอียดเกี่ยวกับคอร์ส python มีดังนี้ครับ : โปรแกรมไพตอนเป็นภาษาสากลโลกที่ไม่เรียนไม่ได้ในราคา 45 บาท.\n"
     ]
    },
    {
     "name": "stdin",
     "output_type": "stream",
     "text": [
      " You 👨 :  คอร์สนี้ราคาเท่าไรครับ\n"
     ]
    },
    {
     "name": "stdout",
     "output_type": "stream",
     "text": [
      " Rulebot 🤖 : ราคา 45 บาท\n"
     ]
    },
    {
     "name": "stdin",
     "output_type": "stream",
     "text": [
      " You 👨 :  สุดท้ายนี้แล้วมีไรอยากบอกกับผู้ชมไหมครับ\n"
     ]
    },
    {
     "name": "stdout",
     "output_type": "stream",
     "text": [
      " Rulebot 🤖 : ขอโทษที ฉันไม่เข้าใจ\n"
     ]
    },
    {
     "name": "stdin",
     "output_type": "stream",
     "text": [
      " You 👨 :  555 โอเคงั้นเท่านี้ก่อนนะครับ\n"
     ]
    },
    {
     "name": "stdout",
     "output_type": "stream",
     "text": [
      " Rulebot 🤖 : ขอโทษที ฉันไม่เข้าใจ\n"
     ]
    },
    {
     "name": "stdin",
     "output_type": "stream",
     "text": [
      " You 👨 :  พักก่อน\n"
     ]
    },
    {
     "name": "stdout",
     "output_type": "stream",
     "text": [
      " Rulebot 🤖 : ขอบคุณมากที่ใช้บริการนะครับ แล้วเจอกันใหม่ครับ\n"
     ]
    }
   ],
   "source": [
    "interactive_chat()"
   ]
  },
  {
   "cell_type": "code",
   "execution_count": null,
   "id": "ccfe0515-4aec-488e-9faf-8f61975afd62",
   "metadata": {},
   "outputs": [],
   "source": []
  }
 ],
 "metadata": {
  "kernelspec": {
   "display_name": "Python 3 (ipykernel)",
   "language": "python",
   "name": "python3"
  },
  "language_info": {
   "codemirror_mode": {
    "name": "ipython",
    "version": 3
   },
   "file_extension": ".py",
   "mimetype": "text/x-python",
   "name": "python",
   "nbconvert_exporter": "python",
   "pygments_lexer": "ipython3",
   "version": "3.9.16"
  }
 },
 "nbformat": 4,
 "nbformat_minor": 5
}
